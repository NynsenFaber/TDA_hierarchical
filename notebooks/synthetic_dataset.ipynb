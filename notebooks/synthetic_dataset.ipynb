{
 "cells": [
  {
   "cell_type": "code",
   "outputs": [],
   "source": [
    "import pandas as pd\n",
    "import pickle\n",
    "from data_structure import OD_tree, GeoSpine\n",
    "import os\n",
    "import matplotlib.pyplot as plt\n",
    "import numpy as np"
   ],
   "metadata": {
    "collapsed": false,
    "ExecuteTime": {
     "end_time": "2025-03-07T12:22:12.669815Z",
     "start_time": "2025-03-07T12:22:12.667642Z"
    }
   },
   "id": "40ceeefefe2cf2da",
   "execution_count": 12
  },
  {
   "cell_type": "code",
   "execution_count": 13,
   "id": "initial_id",
   "metadata": {
    "collapsed": true,
    "ExecuteTime": {
     "end_time": "2025-03-07T12:22:12.681589Z",
     "start_time": "2025-03-07T12:22:12.679865Z"
    }
   },
   "outputs": [],
   "source": [
    "type = \"random\"  # \"binary\" or \"random\"\n",
    "density = \"sparse\"  # \"sparse\" or \"dense\" or \"complete\""
   ]
  },
  {
   "cell_type": "code",
   "outputs": [],
   "source": [
    "folder_path = f\"../data/synthetic_{type}/{density}/\"\n",
    "with open(os.path.join(folder_path, \"structure/geo_spine.pickle\"), \"rb\") as f:\n",
    "    geo_spine = pickle.load(f)\n",
    "\n",
    "# upload csv data\n",
    "df = pd.read_csv(os.path.join(folder_path, \"data.csv\"))\n",
    "\n",
    "spine = GeoSpine(geo_spine)\n",
    "tree = OD_tree(df, spine)"
   ],
   "metadata": {
    "collapsed": false,
    "ExecuteTime": {
     "end_time": "2025-03-07T12:22:12.686941Z",
     "start_time": "2025-03-07T12:22:12.682650Z"
    }
   },
   "id": "f267a45ad90ba7a7",
   "execution_count": 14
  },
  {
   "cell_type": "markdown",
   "source": [
    "# Histogram"
   ],
   "metadata": {
    "collapsed": false
   },
   "id": "faac67ef63655a43"
  },
  {
   "cell_type": "code",
   "outputs": [
    {
     "data": {
      "text/plain": "<Figure size 640x480 with 1 Axes>",
      "image/png": "[encoded data removed]"
     },
     "metadata": {},
     "output_type": "display_data"
    }
   ],
   "source": [
    "tree_level = tree.depth\n",
    "geo_level = int(tree_level / 2)\n",
    "data = tree.get_data_at_level(tree_level)\n",
    "# plot histogram\n",
    "x_values = data[\"COUNT\"].values\n",
    "log_bins = np.logspace(np.log10(x_values.min()), np.log10(x_values.max()), num=20)\n",
    "\n",
    "# Crea l'istogramma con scala logaritmica\n",
    "plt.hist(x_values, bins=log_bins, density=False)\n",
    "\n",
    "# Imposta la scala logaritmica per l'asse x\n",
    "plt.xscale('log')\n",
    "plt.yscale('log')\n",
    "plt.xlabel(\"O/D count\", fontsize=12)\n",
    "plt.ylabel(\"Absolute Frequency\", fontsize=12)\n",
    "# change size of the ticks of the axes\n",
    "plt.tick_params(axis='both', which='major', labelsize=12)\n",
    "\n",
    "# # save the plot\n",
    "# folder = \"../plots/Italy/additional\"\n",
    "# if not os.path.exists(folder):\n",
    "#     os.makedirs(folder)\n",
    "# plt.savefig(f\"{folder}/histogram_OD_{geo_level}.png\")\n",
    "plt.show()"
   ],
   "metadata": {
    "collapsed": false,
    "ExecuteTime": {
     "end_time": "2025-03-07T12:22:12.840047Z",
     "start_time": "2025-03-07T12:22:12.687753Z"
    }
   },
   "id": "3f3ea47acea3c6b4",
   "execution_count": 15
  },
  {
   "cell_type": "markdown",
   "source": [
    "# Size of dataset"
   ],
   "metadata": {
    "collapsed": false
   },
   "id": "7f439bee27304fd4"
  },
  {
   "cell_type": "code",
   "outputs": [
    {
     "name": "stdout",
     "output_type": "stream",
     "text": [
      "Type: random, Density: sparse, number of users: 67840, number of rows: 1892\n",
      "Type: random, Density: dense, number of users: 1003943, number of rows: 94612\n",
      "Type: random, Density: complete, number of users: 2019580, number of rows: 189225\n",
      "Type: binary, Density: sparse, number of users: 23302, number of rows: 655\n",
      "Type: binary, Density: dense, number of users: 734688, number of rows: 32768\n",
      "Type: binary, Density: complete, number of users: 1051271, number of rows: 65536\n"
     ]
    }
   ],
   "source": [
    "types = [\"random\", \"binary\"]\n",
    "densities = [\"sparse\", \"dense\", \"complete\"]\n",
    "for type in types:\n",
    "    for density in densities:\n",
    "        folder_path = f\"../data/synthetic_{type}/{density}/\"\n",
    "        with open(os.path.join(folder_path, \"structure/geo_spine.pickle\"), \"rb\") as f:\n",
    "            geo_spine = pickle.load(f)\n",
    "\n",
    "        # upload csv data\n",
    "        df = pd.read_csv(os.path.join(folder_path, \"data.csv\"))\n",
    "\n",
    "        # spine = GeoSpine(geo_spine)\n",
    "        # tree = OD_tree(df, spine)\n",
    "        n_user = df[\"COUNT\"].sum()\n",
    "        print(f\"Type: {type}, Density: {density}, number of users: {n_user}, number of rows: {df.shape[0]}\")"
   ],
   "metadata": {
    "collapsed": false,
    "ExecuteTime": {
     "end_time": "2025-03-07T12:22:13.019850Z",
     "start_time": "2025-03-07T12:22:12.841442Z"
    }
   },
   "id": "cc3a1c155df4727b",
   "execution_count": 16
  }
 ],
 "metadata": {
  "kernelspec": {
   "display_name": "Python 3",
   "language": "python",
   "name": "python3"
  },
  "language_info": {
   "codemirror_mode": {
    "name": "ipython",
    "version": 2
   },
   "file_extension": ".py",
   "mimetype": "text/x-python",
   "name": "python",
   "nbconvert_exporter": "python",
   "pygments_lexer": "ipython2",
   "version": "2.7.6"
  }
 },
 "nbformat": 4,
 "nbformat_minor": 5
}
