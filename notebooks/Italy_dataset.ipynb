{
 "cells": [
  {
   "cell_type": "markdown",
   "source": [
    "# Load Italy dataset"
   ],
   "metadata": {
    "collapsed": false
   },
   "id": "f78e87ca080a66bd"
  },
  {
   "cell_type": "code",
   "outputs": [],
   "source": [
    "import pandas as pd\n",
    "import pickle\n",
    "from data_structure import OD_tree, GeoSpine\n",
    "\n",
    "file_path = '../data/Italy'\n",
    "df = pd.read_csv(file_path + '/data.csv')\n",
    "\n",
    "with open(file_path + '/structure/geo_spine.pickle', 'rb') as f:\n",
    "    spine = pickle.load(f)\n",
    "spine = GeoSpine(spine)\n",
    "tree = OD_tree(df, spine)"
   ],
   "metadata": {
    "collapsed": false,
    "ExecuteTime": {
     "end_time": "2024-11-27T13:50:46.408500Z",
     "start_time": "2024-11-27T13:50:45.928042Z"
    }
   },
   "id": "1662380ee0dfb9a0",
   "execution_count": 2
  },
  {
   "cell_type": "markdown",
   "source": [
    "# Histogram and sparsity"
   ],
   "metadata": {
    "collapsed": false
   },
   "id": "ec326450804fe2e"
  },
  {
   "cell_type": "code",
   "outputs": [],
   "source": [
    "import matplotlib.pyplot as plt\n",
    "import numpy as np\n",
    "import os"
   ],
   "metadata": {
    "collapsed": false,
    "ExecuteTime": {
     "end_time": "2024-11-27T14:03:51.592687Z",
     "start_time": "2024-11-27T14:03:51.588986Z"
    }
   },
   "id": "7b3c3de0902da070",
   "execution_count": 50
  },
  {
   "cell_type": "code",
   "outputs": [
    {
     "data": {
      "text/plain": "<Figure size 640x480 with 1 Axes>",
      "image/png": "[encoded data removed]"
     },
     "metadata": {},
     "output_type": "display_data"
    }
   ],
   "source": [
    "tree_level = tree.depth\n",
    "geo_level = int(tree_level / 2)\n",
    "data = tree.get_data_at_level(tree_level)\n",
    "# plot histogram\n",
    "x_values = data[\"COUNT\"].values\n",
    "log_bins = np.logspace(np.log10(x_values.min()), np.log10(x_values.max()), num=20)\n",
    "\n",
    "# Crea l'istogramma con scala logaritmica\n",
    "plt.hist(x_values, bins=log_bins, density=False)\n",
    "\n",
    "# Imposta la scala logaritmica per l'asse x\n",
    "plt.xscale('log')\n",
    "plt.yscale('log')\n",
    "plt.xlabel(\"O/D count\", fontsize=12)\n",
    "plt.ylabel(\"Absolute Frequency\", fontsize=12)\n",
    "# change size of the ticks of the axes\n",
    "plt.tick_params(axis='both', which='major', labelsize=12)\n",
    "\n",
    "# save the plot\n",
    "folder = \"../plots/Italy/additional\"\n",
    "if not os.path.exists(folder):\n",
    "    os.makedirs(folder)\n",
    "plt.savefig(f\"{folder}/histogram_OD_{geo_level}.png\")\n",
    "plt.show()"
   ],
   "metadata": {
    "collapsed": false,
    "ExecuteTime": {
     "end_time": "2024-11-27T14:38:33.575496Z",
     "start_time": "2024-11-27T14:38:32.913296Z"
    }
   },
   "id": "e4698d850d74c07a",
   "execution_count": 70
  },
  {
   "cell_type": "code",
   "outputs": [
    {
     "name": "stdout",
     "output_type": "stream",
     "text": [
      "Number of areas at geo level 3: 8092\n",
      "Total number of O/D pairs at geo level 3: 65480464\n",
      "Number of O/D pairs with data: 556120\n",
      "Sparsity: 99.15%\n"
     ]
    }
   ],
   "source": [
    "# compute total number of O/D pairs\n",
    "number_OD = len(spine.get_nodes(geo_level))\n",
    "print(\"Number of areas at geo level {}: {}\".format(geo_level, len(spine.get_nodes(geo_level))))\n",
    "print(f\"Total number of O/D pairs at geo level {geo_level}: {number_OD**2}\")\n",
    "print(f\"Number of O/D pairs with data: {len(data)}\")\n",
    "print(\"Sparsity: {:.2f}%\".format(100-100 * len(data) / (number_OD**2)))"
   ],
   "metadata": {
    "collapsed": false,
    "ExecuteTime": {
     "end_time": "2024-11-27T14:35:09.058368Z",
     "start_time": "2024-11-27T14:35:09.055197Z"
    }
   },
   "id": "26f41243de01f536",
   "execution_count": 69
  }
 ],
 "metadata": {
  "kernelspec": {
   "display_name": "Python 3",
   "language": "python",
   "name": "python3"
  },
  "language_info": {
   "codemirror_mode": {
    "name": "ipython",
    "version": 2
   },
   "file_extension": ".py",
   "mimetype": "text/x-python",
   "name": "python",
   "nbconvert_exporter": "python",
   "pygments_lexer": "ipython2",
   "version": "2.7.6"
  }
 },
 "nbformat": 4,
 "nbformat_minor": 5
}
